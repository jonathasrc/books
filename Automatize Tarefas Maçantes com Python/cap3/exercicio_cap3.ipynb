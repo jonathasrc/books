{
 "cells": [
  {
   "cell_type": "markdown",
   "id": "f05e8244",
   "metadata": {},
   "source": [
    "# Exericios práticos"
   ]
  },
  {
   "cell_type": "markdown",
   "id": "14d44cbb",
   "metadata": {},
   "source": [
    "1. Por que é vantajoso ter funções em seus programas?"
   ]
  },
  {
   "cell_type": "markdown",
   "id": "b19df2d3",
   "metadata": {},
   "source": [
    "    Para reusabilidade de código, mantenabilidade."
   ]
  },
  {
   "cell_type": "markdown",
   "id": "ed7b6b82",
   "metadata": {},
   "source": [
    "2. Em que momento o código de uma função é excutado: quando a função é definida ou quando ela é chamada?"
   ]
  },
  {
   "cell_type": "markdown",
   "id": "7fe32630",
   "metadata": {},
   "source": [
    "    Chamada"
   ]
  },
  {
   "cell_type": "markdown",
   "id": "793728fb",
   "metadata": {},
   "source": [
    "3. Que instrução cria uma função?"
   ]
  },
  {
   "cell_type": "code",
   "execution_count": null,
   "id": "3ab55723",
   "metadata": {},
   "outputs": [],
   "source": [
    "def function_():\n",
    "    pass"
   ]
  },
  {
   "cell_type": "markdown",
   "id": "5ca7fdb0",
   "metadata": {},
   "source": [
    "4. Qual é a diferença entre uma função e uma chamda de função?"
   ]
  },
  {
   "cell_type": "markdown",
   "id": "708e97a3",
   "metadata": {},
   "source": [
    "    No momento que estaá sendo definida com a instrução 'def' em python é o que chamamos de função. E o momento da chamada da função é o momento que queremos que todas aquelas instrções dentro de função definida seja excutada."
   ]
  },
  {
   "cell_type": "markdown",
   "id": "8ccd6495",
   "metadata": {},
   "source": [
    "5. Quantos escopos globais existem em um programa Python? Quantos escpos locais?"
   ]
  },
  {
   "cell_type": "markdown",
   "id": "8786e4d0",
   "metadata": {},
   "source": [
    "    Escopo global apenas um. escopo locais pode haver diversos"
   ]
  },
  {
   "cell_type": "markdown",
   "id": "9acb5379",
   "metadata": {},
   "source": [
    "6. O que acontece ás variaveis em um escopo local quando a chamada da função retorna?"
   ]
  },
  {
   "cell_type": "markdown",
   "id": "93177257",
   "metadata": {},
   "source": [
    "    São destruidas"
   ]
  },
  {
   "cell_type": "markdown",
   "id": "045e6f7c",
   "metadata": {},
   "source": [
    "7. O que é um valor retorno? Um valor de retorno pode fazer parte de uma expressão?"
   ]
  },
  {
   "cell_type": "markdown",
   "id": "aeee1550",
   "metadata": {},
   "source": [
    "    São valores ou objetos retornados de uma determinda função. sim, pode pois armazenamos esses valores em variaveis"
   ]
  },
  {
   "cell_type": "markdown",
   "id": "4b29ff1e",
   "metadata": {},
   "source": [
    "8. Se uma função não tiver uma instrução retorno, qual será o valor de retorno de uma chamada a essa função?"
   ]
  },
  {
   "cell_type": "markdown",
   "id": "5f8d21fe",
   "metadata": {},
   "source": [
    "O padrão da linguagem Python é sempre retornar 'None'"
   ]
  },
  {
   "cell_type": "markdown",
   "id": "bffd487e",
   "metadata": {},
   "source": [
    "9. Como podemos fazer com que uma variável em uma função refira-se à variável global?\n"
   ]
  },
  {
   "cell_type": "code",
   "execution_count": null,
   "id": "433a7c48",
   "metadata": {},
   "outputs": [],
   "source": [
    "# com a instrução 'global'\n",
    "global eggs"
   ]
  },
  {
   "cell_type": "code",
   "execution_count": 5,
   "id": "33169300",
   "metadata": {},
   "outputs": [
    {
     "name": "stdout",
     "output_type": "stream",
     "text": [
      "spam\n"
     ]
    }
   ],
   "source": [
    "# exemplo\n",
    "def var_global():\n",
    "    global eggs \n",
    "    eggs = 'spam'\n",
    "\n",
    "eggs = 'global'\n",
    "var_global()\n",
    "print(eggs)"
   ]
  },
  {
   "cell_type": "markdown",
   "id": "c3ea22c7",
   "metadata": {},
   "source": [
    "10. Qual é o tipo de dado de 'None'?"
   ]
  },
  {
   "cell_type": "markdown",
   "id": "63f65598",
   "metadata": {},
   "source": [
    "NoneType"
   ]
  },
  {
   "cell_type": "code",
   "execution_count": 3,
   "id": "0129c20e",
   "metadata": {},
   "outputs": [
    {
     "data": {
      "text/plain": [
       "NoneType"
      ]
     },
     "execution_count": 3,
     "metadata": {},
     "output_type": "execute_result"
    }
   ],
   "source": [
    "type(None)"
   ]
  },
  {
   "cell_type": "markdown",
   "id": "e5034fc6",
   "metadata": {},
   "source": [
    "11. O que a instrução 'import areallyourpetnamederic' faz?"
   ]
  },
  {
   "cell_type": "markdown",
   "id": "ccf7012d",
   "metadata": {},
   "source": [
    "    Está importando o módulo areallyourpetnamederic"
   ]
  },
  {
   "cell_type": "code",
   "execution_count": 6,
   "id": "f0c613b9",
   "metadata": {},
   "outputs": [
    {
     "ename": "ModuleNotFoundError",
     "evalue": "No module named 'areallyourpetnamederic'",
     "output_type": "error",
     "traceback": [
      "\u001b[0;31m---------------------------------------------------------------------------\u001b[0m",
      "\u001b[0;31mModuleNotFoundError\u001b[0m                       Traceback (most recent call last)",
      "Input \u001b[0;32mIn [6]\u001b[0m, in \u001b[0;36m<cell line: 1>\u001b[0;34m()\u001b[0m\n\u001b[0;32m----> 1\u001b[0m \u001b[38;5;28;01mimport\u001b[39;00m \u001b[38;5;21;01mareallyourpetnamederic\u001b[39;00m\n",
      "\u001b[0;31mModuleNotFoundError\u001b[0m: No module named 'areallyourpetnamederic'"
     ]
    }
   ],
   "source": [
    "import areallyourpetnamederic"
   ]
  },
  {
   "cell_type": "markdown",
   "id": "c26732f0",
   "metadata": {},
   "source": [
    "12. Se você tivesse uma função chamada `bacon()` em um módulo chamado spam, com voce a chamaria aṕos ter importado spam? "
   ]
  },
  {
   "cell_type": "code",
   "execution_count": 7,
   "id": "ac4d1f61",
   "metadata": {},
   "outputs": [
    {
     "ename": "ModuleNotFoundError",
     "evalue": "No module named 'spam'",
     "output_type": "error",
     "traceback": [
      "\u001b[0;31m---------------------------------------------------------------------------\u001b[0m",
      "\u001b[0;31mModuleNotFoundError\u001b[0m                       Traceback (most recent call last)",
      "Input \u001b[0;32mIn [7]\u001b[0m, in \u001b[0;36m<cell line: 1>\u001b[0;34m()\u001b[0m\n\u001b[0;32m----> 1\u001b[0m \u001b[38;5;28;01mimport\u001b[39;00m \u001b[38;5;21;01mspam\u001b[39;00m\n\u001b[1;32m      3\u001b[0m spam\u001b[38;5;241m.\u001b[39mbacon()\n",
      "\u001b[0;31mModuleNotFoundError\u001b[0m: No module named 'spam'"
     ]
    }
   ],
   "source": [
    "import spam\n",
    "\n",
    "spam.bacon()"
   ]
  },
  {
   "cell_type": "markdown",
   "id": "9825740d",
   "metadata": {},
   "source": [
    "13. Como podemos evitar que um programa falhe quando houver um erro?"
   ]
  },
  {
   "cell_type": "markdown",
   "id": "32eafe6f",
   "metadata": {},
   "source": [
    "Com tratamento de exceções"
   ]
  },
  {
   "cell_type": "code",
   "execution_count": 18,
   "id": "7e23115e",
   "metadata": {},
   "outputs": [],
   "source": [
    "try:\n",
    "    pass\n",
    "except RuntimeError:\n",
    "    print('Error')\n",
    "    "
   ]
  },
  {
   "cell_type": "markdown",
   "id": "711ad24c",
   "metadata": {},
   "source": [
    "14. De que é composta a clásula try?"
   ]
  },
  {
   "cell_type": "markdown",
   "id": "7b750ebe",
   "metadata": {},
   "source": [
    "é compoosta pela instrução `try` logo em seguida bloca que deve tentar ser escutado caso fale é excutado a instrução `except` onde é seguido o próximo para ser excutado em caso de falha."
   ]
  }
 ],
 "metadata": {
  "kernelspec": {
   "display_name": "Python 3 (ipykernel)",
   "language": "python",
   "name": "python3"
  },
  "language_info": {
   "codemirror_mode": {
    "name": "ipython",
    "version": 3
   },
   "file_extension": ".py",
   "mimetype": "text/x-python",
   "name": "python",
   "nbconvert_exporter": "python",
   "pygments_lexer": "ipython3",
   "version": "3.10.2"
  }
 },
 "nbformat": 4,
 "nbformat_minor": 5
}
